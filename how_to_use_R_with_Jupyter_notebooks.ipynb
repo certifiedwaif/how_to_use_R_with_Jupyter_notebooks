{
 "cells": [
  {
   "cell_type": "markdown",
   "metadata": {},
   "source": [
    "# How to use R with Jupyter Notebooks\n",
    "\n",
    "Follow the instructions [here](https://www.datacamp.com/community/blog/jupyter-notebook-r)."
   ]
  },
  {
   "cell_type": "code",
   "execution_count": 1,
   "metadata": {},
   "outputs": [
    {
     "name": "stderr",
     "output_type": "stream",
     "text": [
      "\n",
      "Attaching package: ‘blma’\n",
      "\n",
      "The following object is masked from ‘package:stats’:\n",
      "\n",
      "    BIC\n",
      "\n"
     ]
    }
   ],
   "source": [
    "library(blma)"
   ]
  },
  {
   "cell_type": "code",
   "execution_count": 2,
   "metadata": {},
   "outputs": [
    {
     "name": "stdout",
     "output_type": "stream",
     "text": [
      "\n",
      "blma> mD <- MASS::UScrime\n",
      "\n",
      "blma> notlog <- c(2,ncol(MASS::UScrime))\n",
      "\n",
      "blma> mD[,-notlog] <- log(mD[,-notlog])\n",
      "\n",
      "blma> for (j in 1:ncol(mD)) {\n",
      "blma+   mD[,j] <- (mD[,j] - mean(mD[,j]))/sd(mD[,j])\n",
      "blma+ }\n",
      "\n",
      "blma> varnames <- c(\n",
      "blma+   \"log(AGE)\",\n",
      "blma+   \"S\",\n",
      "blma+   \"log(ED)\",\n",
      "blma+   \"log(Ex0)\",\n",
      "blma+   \"log(Ex1)\",\n",
      "blma+   \"log(LF)\",\n",
      "blma+   \"log(M)\",\n",
      "blma+   \"log(N)\",\n",
      "blma+   \"log(NW)\",\n",
      "blma+   \"log(U1)\",\n",
      "blma+   \"log(U2)\",\n",
      "blma+   \"log(W)\",\n",
      "blma+   \"log(X)\",\n",
      "blma+   \"log(prison)\",\n",
      "blma+   \"log(time)\")\n",
      "\n",
      "blma> vy <- mD$y\n",
      "\n",
      "blma> mX <- data.matrix(cbind(mD[1:15]))\n",
      "\n",
      "blma> colnames(mX) <- varnames\n",
      "\n",
      "blma> blma_result <- blma(vy, mX, \"BIC\")\n"
     ]
    }
   ],
   "source": [
    "example(blma)"
   ]
  },
  {
   "cell_type": "code",
   "execution_count": 3,
   "metadata": {},
   "outputs": [
    {
     "name": "stdout",
     "output_type": "stream",
     "text": [
      "List of 4\n",
      " $ vR2            : num [1:32768] 0 0.00742 0.00994 0.00822 0.13921 ...\n",
      " $ vp_gamma       : int [1:32768] 0 1 2 1 2 3 2 1 2 3 ...\n",
      " $ vlogp          : num [1:32768] 0 -1.75 -3.615 -1.731 -0.327 ...\n",
      " $ vinclusion_prob: num [1:15] 0.709 0.191 0.921 0.725 0.37 ...\n"
     ]
    }
   ],
   "source": [
    "str(blma_result)"
   ]
  },
  {
   "cell_type": "code",
   "execution_count": 12,
   "metadata": {},
   "outputs": [
    {
     "data": {
      "image/png": "[encoded data removed]",
      "text/plain": [
       "Plot with title “blma Covariate Inclusion Probabilities”"
      ]
     },
     "metadata": {},
     "output_type": "display_data"
    }
   ],
   "source": [
    "barplot(blma_result$vinclusion_prob,\n",
    "        main='blma Covariate Inclusion Probabilities',\n",
    "        xlab='Covariates',\n",
    "        ylab='Inclusion probabilities',\n",
    "        names=varnames)"
   ]
  },
  {
   "cell_type": "markdown",
   "metadata": {},
   "source": [
    "# Here is some Markdown.\n",
    "\n",
    "You can write maths in here. Like this: I like to keep it $\\mathbb{R}$.\n",
    "\n",
    "$$\n",
    "\\int_{-\\infty}^{\\infty} \\exp{(-x^2)} dx = \\sqrt{2 \\pi}\n",
    "$$"
   ]
  },
  {
   "cell_type": "code",
   "execution_count": 8,
   "metadata": {},
   "outputs": [],
   "source": [
    "?barplot"
   ]
  },
  {
   "cell_type": "code",
   "execution_count": null,
   "metadata": {},
   "outputs": [],
   "source": []
  }
 ],
 "metadata": {
  "kernelspec": {
   "display_name": "R",
   "language": "R",
   "name": "ir"
  },
  "language_info": {
   "codemirror_mode": "r",
   "file_extension": ".r",
   "mimetype": "text/x-r-source",
   "name": "R",
   "pygments_lexer": "r",
   "version": "3.6.0"
  }
 },
 "nbformat": 4,
 "nbformat_minor": 2
}
